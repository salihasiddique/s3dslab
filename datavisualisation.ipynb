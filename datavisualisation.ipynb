{
  "nbformat": 4,
  "nbformat_minor": 0,
  "metadata": {
    "colab": {
      "name": "datavisualisation.ipynb",
      "provenance": []
    },
    "kernelspec": {
      "name": "python3",
      "display_name": "Python 3"
    },
    "language_info": {
      "name": "python"
    }
  },
  "cells": [
    {
      "cell_type": "code",
      "execution_count": null,
      "metadata": {
        "id": "u9q37L8YxGnp"
      },
      "outputs": [],
      "source": [
        "# importing the required module \n",
        "import matplotlib.pyplot as plt     \n",
        "# x axis values \n",
        "x = [1,4,3] \n",
        "# corresponding y axis values \n",
        "y = [2,4,1]    \n",
        "# plotting the points  \n",
        "plt.plot(x, y, linewidth=4) \n",
        "# naming the x axis \n",
        "plt.xlabel('x - axis') \n",
        "# naming the y axis \n",
        "plt.ylabel('y - axis')   \n",
        "# giving a title to my graph \n",
        "plt.title('My first graph!')    \n",
        "# function to show the plot \n",
        "plt.show()"
      ]
    },
    {
      "cell_type": "code",
      "source": [
        "# importing the required module \n",
        "import matplotlib.pyplot as plt    \n",
        "# x axis values \n",
        "x = [1,2,3] \n",
        "# corresponding y axis values \n",
        "y = [2,4,1]  \n",
        "# plotting the points  \n",
        "plt.bar(x, y) \n",
        "# naming the x axis \n",
        "plt.xlabel('x - axis') \n",
        "# naming the y axis \n",
        "plt.ylabel('y - axis') \n",
        "    \n",
        "# giving a title to my graph \n",
        "plt.title('My first graph!') \n",
        "    \n",
        "# function to show the plot \n",
        "plt.show()\n"
      ],
      "metadata": {
        "id": "f-38TD6YxLtu"
      },
      "execution_count": null,
      "outputs": []
    },
    {
      "cell_type": "code",
      "source": [
        "# importing matplotlib module \n",
        "from matplotlib import pyplot as plt\n",
        "# Y-axis values\n",
        "y = [10, 5, 8, 4, 2,2,2,5]\n",
        "# Function to plot histogram\n",
        "plt.hist(y) \n",
        "# Function to show the plot\n",
        "plt.show()"
      ],
      "metadata": {
        "id": "MkCN_MGnxP3E"
      },
      "execution_count": null,
      "outputs": []
    },
    {
      "cell_type": "code",
      "source": [
        "# importing matplotlib module \n",
        "from matplotlib import pyplot as plt\n",
        "# x-axis values\n",
        "x = [5, 2, 9, 4, 7]  \n",
        "# Y-axis values\n",
        "y = [10, 5, 8, 4, 2] \n",
        "# Function to plot scatter\n",
        "plt.scatter(x, y) \n",
        "# function to show the plot\n",
        "plt.show()\n"
      ],
      "metadata": {
        "id": "SC14UkV4xTTd"
      },
      "execution_count": null,
      "outputs": []
    },
    {
      "cell_type": "code",
      "source": [
        "import plotly.express as px\n",
        "fig = px.line(x=[1, 2, 3], y=[2, 4, 6])\n",
        "fig.show()"
      ],
      "metadata": {
        "id": "hiN3XaWvxd9M"
      },
      "execution_count": null,
      "outputs": []
    },
    {
      "cell_type": "code",
      "source": [
        "import plotly.express as px\n",
        "# using the iris dataset\n",
        "df = px.data.iris()\n",
        "print(df)\n",
        "# plotting the line chart\n",
        "fig = px.line(df, x=\"species\", y=\"petal_width\")\n",
        "# showing the plot\n",
        "fig.show()"
      ],
      "metadata": {
        "id": "1mlibQdjxire"
      },
      "execution_count": null,
      "outputs": []
    },
    {
      "cell_type": "code",
      "source": [
        "import plotly.express as px\n",
        "# using the iris dataset\n",
        "df = px.data.iris()\n",
        "# plotting the bar chart\n",
        "fig = px.bar(df, x=\"sepal_width\", y=\"sepal_length\")\n",
        "# showing the plot\n",
        "fig.show()"
      ],
      "metadata": {
        "id": "MAyFuSj02KIi"
      },
      "execution_count": null,
      "outputs": []
    },
    {
      "cell_type": "code",
      "source": [
        "import plotly.express as px\n",
        "# using the iris dataset\n",
        "df = px.data.iris()\n",
        "# plotting the histogram\n",
        "fig = px.histogram(df, x=\"sepal_length\", y=\"petal_width\")\n",
        "# showing the plot\n",
        "fig.show()\n",
        "\n"
      ],
      "metadata": {
        "id": "cOyd6Xiv2SwL"
      },
      "execution_count": null,
      "outputs": []
    },
    {
      "cell_type": "code",
      "source": [
        "import plotly.express as px\n",
        "# using the iris dataset\n",
        "df = px.data.iris()\n",
        "# plotting the scatter chart\n",
        "fig = px.scatter(df, x=\"species\", y=\"petal_width\")\n",
        "# showing the plot\n",
        "fig.show()"
      ],
      "metadata": {
        "id": "QopD-bcS2V26"
      },
      "execution_count": null,
      "outputs": []
    },
    {
      "cell_type": "code",
      "source": [
        "import plotly.express as px\n",
        "# using the iris dataset\n",
        "df = px.data.iris()\n",
        "# plotting the bubble chart\n",
        "fig = px.scatter(df, x=\"species\", y=\"petal_width\",\n",
        "                 size=\"petal_length\", color=\"species\")\n",
        "# showing the plot\n",
        "fig.show()"
      ],
      "metadata": {
        "id": "awBsl-XQ2YM0"
      },
      "execution_count": null,
      "outputs": []
    },
    {
      "cell_type": "code",
      "source": [
        "import plotly.express as px\n",
        "# Data to be plotted\n",
        "df = px.data.iris()\n",
        "# Plotting the figure\n",
        "fig = px.scatter_3d(df, x = 'sepal_width',\n",
        "                    y = 'sepal_length',\n",
        "                    z = 'petal_width',\n",
        "                    color = 'species')\n",
        "fig.show()"
      ],
      "metadata": {
        "id": "gnPIqUtG2dYq"
      },
      "execution_count": null,
      "outputs": []
    },
    {
      "cell_type": "code",
      "source": [
        "import plotly.express as px\n",
        "# Data to be plotted\n",
        "df = px.data.iris()\n",
        "# Plotting the figure\n",
        "fig = px.scatter_3d(df, x = 'sepal_width',\n",
        "                    y = 'sepal_length',\n",
        "                    z = 'petal_width',\n",
        "                    color = 'species')\n",
        "fig.show()"
      ],
      "metadata": {
        "id": "zHnRsn4D2hKq"
      },
      "execution_count": null,
      "outputs": []
    }
  ]
}