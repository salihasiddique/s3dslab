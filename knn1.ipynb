{
  "nbformat": 4,
  "nbformat_minor": 0,
  "metadata": {
    "colab": {
      "name": "knn1.ipynb",
      "provenance": []
    },
    "kernelspec": {
      "name": "python3",
      "display_name": "Python 3"
    },
    "language_info": {
      "name": "python"
    }
  },
  "cells": [
    {
      "cell_type": "code",
      "execution_count": 2,
      "metadata": {
        "colab": {
          "base_uri": "https://localhost:8080/"
        },
        "id": "lxqEzQ3tqaIA",
        "outputId": "08adef3a-6b2e-4551-d0ae-db56dc514730"
      },
      "outputs": [
        {
          "output_type": "stream",
          "name": "stdout",
          "text": [
            "[1 1 0 0]\n"
          ]
        }
      ],
      "source": [
        "from sklearn.neighbors import KNeighborsClassifier\n",
        "x1=[7,7,3,1]\n",
        "x2=[7,4,4,4]\n",
        "target=['bad','bad','Good','Good']\n",
        "from sklearn import preprocessing\n",
        "#creating labelEncoder\n",
        "le = preprocessing.LabelEncoder()\n",
        "# Converting string labels into numbers.\n",
        "target_encoded=le.fit_transform(target)\n",
        "print(target_encoded)"
      ]
    },
    {
      "cell_type": "code",
      "source": [
        "features=zip(x1,x2)\n",
        "features = list(features)\n",
        "features"
      ],
      "metadata": {
        "colab": {
          "base_uri": "https://localhost:8080/"
        },
        "id": "51rYAeEpqeBo",
        "outputId": "da2d93e0-de03-415e-a083-ec8794254c81"
      },
      "execution_count": 3,
      "outputs": [
        {
          "output_type": "execute_result",
          "data": {
            "text/plain": [
              "[(7, 7), (7, 4), (3, 4), (1, 4)]"
            ]
          },
          "metadata": {},
          "execution_count": 3
        }
      ]
    },
    {
      "cell_type": "code",
      "source": [
        "knn = KNeighborsClassifier(n_neighbors=3)\n",
        "knn.fit(features,target)\n",
        "# Predict on dataset which model has not seen before\n",
        "print(knn.predict([[3,7]]))"
      ],
      "metadata": {
        "colab": {
          "base_uri": "https://localhost:8080/"
        },
        "id": "7rQOPcU0qg-G",
        "outputId": "1a1d7236-ea04-40c8-f851-7e08f513623b"
      },
      "execution_count": 4,
      "outputs": [
        {
          "output_type": "stream",
          "name": "stdout",
          "text": [
            "['Good']\n"
          ]
        }
      ]
    }
  ]
}