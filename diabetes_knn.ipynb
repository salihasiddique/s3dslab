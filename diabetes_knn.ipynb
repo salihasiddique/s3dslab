{
  "nbformat": 4,
  "nbformat_minor": 0,
  "metadata": {
    "colab": {
      "name": "diabetes_knn.ipynb",
      "provenance": []
    },
    "kernelspec": {
      "name": "python3",
      "display_name": "Python 3"
    },
    "language_info": {
      "name": "python"
    }
  },
  "cells": [
    {
      "cell_type": "code",
      "execution_count": 4,
      "metadata": {
        "colab": {
          "base_uri": "https://localhost:8080/"
        },
        "id": "KVxiHLEr-guj",
        "outputId": "824e617f-d929-452e-bddf-73cbe30cd6b3"
      },
      "outputs": [
        {
          "output_type": "stream",
          "name": "stdout",
          "text": [
            "0.6883116883116883\n"
          ]
        }
      ],
      "source": [
        "from sklearn.neighbors import KNeighborsClassifier\n",
        "from sklearn.model_selection import train_test_split\n",
        "import pandas as pd\n",
        "df = pd.read_csv(\"./diabetes.csv\")\n",
        "x = df.drop(\"Outcome\",axis =1)\n",
        "y = df[\"Outcome\"]\n",
        "x_train,x_test,y_train,y_test = train_test_split(x,y,test_size=0.2,random_state=42)\n",
        "knn = KNeighborsClassifier (n_neighbors = 7)\n",
        "knn.fit(x_train,y_train)\n",
        "y_pred = knn.predict(x_test)\n",
        "from sklearn.metrics import accuracy_score\n",
        "ac = accuracy_score(y_test,y_pred)\n",
        "print(ac)\n",
        "\n",
        "\n"
      ]
    },
    {
      "cell_type": "code",
      "source": [
        "from sklearn.metrics import confusion_matrix\n",
        "from sklearn.metrics import classification_report\n",
        "matrix = confusion_matrix(y_test,y_pred)\n",
        "print(\"confusion matrix : \\n\",matrix)"
      ],
      "metadata": {
        "colab": {
          "base_uri": "https://localhost:8080/"
        },
        "id": "yjo1ONn6-oRC",
        "outputId": "6cf1402e-ba8c-4d7c-9991-bfc981568d58"
      },
      "execution_count": 5,
      "outputs": [
        {
          "output_type": "stream",
          "name": "stdout",
          "text": [
            "confusion matrix : \n",
            " [[72 27]\n",
            " [21 34]]\n"
          ]
        }
      ]
    },
    {
      "cell_type": "code",
      "source": [
        "cr = classification_report(y_test,y_pred)\n",
        "print(\"Classification Report \\n\",cr)"
      ],
      "metadata": {
        "colab": {
          "base_uri": "https://localhost:8080/"
        },
        "id": "Z8MDCaGL-rLp",
        "outputId": "e312e6dc-fe77-4102-c540-f9e991670535"
      },
      "execution_count": 6,
      "outputs": [
        {
          "output_type": "stream",
          "name": "stdout",
          "text": [
            "Classification Report \n",
            "               precision    recall  f1-score   support\n",
            "\n",
            "           0       0.77      0.73      0.75        99\n",
            "           1       0.56      0.62      0.59        55\n",
            "\n",
            "    accuracy                           0.69       154\n",
            "   macro avg       0.67      0.67      0.67       154\n",
            "weighted avg       0.70      0.69      0.69       154\n",
            "\n"
          ]
        }
      ]
    }
  ]
}